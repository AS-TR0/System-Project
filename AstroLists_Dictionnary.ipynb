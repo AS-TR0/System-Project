{
  "nbformat": 4,
  "nbformat_minor": 0,
  "metadata": {
    "colab": {
      "name": "AstroLists_Dictionnary.ipynb",
      "provenance": [],
      "collapsed_sections": [],
      "authorship_tag": "ABX9TyMWbaF0rGSZGl1Hj0U5FYvq",
      "include_colab_link": true
    },
    "kernelspec": {
      "name": "python3",
      "display_name": "Python 3"
    },
    "language_info": {
      "name": "python"
    }
  },
  "cells": [
    {
      "cell_type": "markdown",
      "metadata": {
        "id": "view-in-github",
        "colab_type": "text"
      },
      "source": [
        "<a href=\"https://colab.research.google.com/github/AS-TR0/System-Project/blob/main/AstroLists_Dictionnary.ipynb\" target=\"_parent\"><img src=\"https://colab.research.google.com/assets/colab-badge.svg\" alt=\"Open In Colab\"/></a>"
      ]
    },
    {
      "cell_type": "code",
      "metadata": {
        "id": "jc3jaRF6tdTv"
      },
      "source": [
        "yearly_sales = [40000, 42000, 47000, 52000, 39000]"
      ],
      "execution_count": 107,
      "outputs": []
    },
    {
      "cell_type": "code",
      "metadata": {
        "id": "tuht3l_3tpUL"
      },
      "source": [
        "years = [2016,2019,2017,2020,2019]"
      ],
      "execution_count": 108,
      "outputs": []
    },
    {
      "cell_type": "code",
      "metadata": {
        "colab": {
          "base_uri": "https://localhost:8080/"
        },
        "id": "B0g9Y6Vvtzay",
        "outputId": "53c9f12f-0135-401e-d409-7be4ea960f45"
      },
      "source": [
        "yearly_sales [1]"
      ],
      "execution_count": 109,
      "outputs": [
        {
          "output_type": "execute_result",
          "data": {
            "text/plain": [
              "42000"
            ]
          },
          "metadata": {},
          "execution_count": 109
        }
      ]
    },
    {
      "cell_type": "code",
      "metadata": {
        "id": "t_chl1Akt-8A"
      },
      "source": [
        "sales = {2016: 40000, \n",
        "         2017: 42000, \n",
        "         2018: 47000, \n",
        "         2019: 52000, \n",
        "         2020: 39000}"
      ],
      "execution_count": 110,
      "outputs": []
    },
    {
      "cell_type": "code",
      "metadata": {
        "colab": {
          "base_uri": "https://localhost:8080/"
        },
        "id": "JNy0dR7kuYOD",
        "outputId": "728c877d-b6e0-4db1-a4a8-45e1e4fc5414"
      },
      "source": [
        "type(sales)"
      ],
      "execution_count": 111,
      "outputs": [
        {
          "output_type": "execute_result",
          "data": {
            "text/plain": [
              "dict"
            ]
          },
          "metadata": {},
          "execution_count": 111
        }
      ]
    },
    {
      "cell_type": "code",
      "metadata": {
        "colab": {
          "base_uri": "https://localhost:8080/"
        },
        "id": "WwdZqMWyukUS",
        "outputId": "f57b258e-5dd4-42c8-8b55-5f57408d676f"
      },
      "source": [
        "sales [2018]"
      ],
      "execution_count": 112,
      "outputs": [
        {
          "output_type": "execute_result",
          "data": {
            "text/plain": [
              "47000"
            ]
          },
          "metadata": {},
          "execution_count": 112
        }
      ]
    },
    {
      "cell_type": "code",
      "metadata": {
        "id": "9DpOgqLVvHHc"
      },
      "source": [
        "apple = {\"date\": \"2020-09-26\",\n",
        "         \"symbol\": \"AAPL\",\n",
        "         'ebitda': 81020000000,\n",
        "         'ebitdarario': 0.295138699160337,\n",
        "         'operatingIncomme': 66288000000,\n",
        "         'operatingIncomeRatio': 0.244398303460703,\n",
        "         'eps': 2.36,\n",
        "         'epsdiluted': 3.36,\n",
        "         'BasedeInUS': True \n",
        "         \n",
        "         }"
      ],
      "execution_count": 114,
      "outputs": []
    },
    {
      "cell_type": "code",
      "metadata": {
        "colab": {
          "base_uri": "https://localhost:8080/"
        },
        "id": "8IkiX0S5wTCO",
        "outputId": "e31d4e92-4288-483e-93cd-c61919a3464f"
      },
      "source": [
        "apple ['eps']"
      ],
      "execution_count": 115,
      "outputs": [
        {
          "output_type": "execute_result",
          "data": {
            "text/plain": [
              "2.36"
            ]
          },
          "metadata": {},
          "execution_count": 115
        }
      ]
    },
    {
      "cell_type": "code",
      "metadata": {
        "id": "92rpBZg6wiwT"
      },
      "source": [
        "arrow = {'revenue': 1000000,\n",
        "         'cost_of_sales': 60000,\n",
        "         'admin_cost': 150000,\n",
        "         'marketing_cost': 50000,\n",
        "         'interest': 2000,\n",
        "         'profit_amount': 198000,\n",
        "         'is_profitable': True\n",
        "         }"
      ],
      "execution_count": 124,
      "outputs": []
    },
    {
      "cell_type": "code",
      "metadata": {
        "colab": {
          "base_uri": "https://localhost:8080/"
        },
        "id": "0BCZr93mwsUA",
        "outputId": "ab3c8627-9204-4259-be8b-18c561ad34e5"
      },
      "source": [
        "arrow['revenue']\n"
      ],
      "execution_count": 122,
      "outputs": [
        {
          "output_type": "execute_result",
          "data": {
            "text/plain": [
              "1000000"
            ]
          },
          "metadata": {},
          "execution_count": 122
        }
      ]
    },
    {
      "cell_type": "code",
      "metadata": {
        "colab": {
          "base_uri": "https://localhost:8080/"
        },
        "id": "iYNqDVO1xuse",
        "outputId": "38c2d223-7f8d-4bca-ab46-7756146c3cde"
      },
      "source": [
        "arrow['profit_amount']\n"
      ],
      "execution_count": 125,
      "outputs": [
        {
          "output_type": "execute_result",
          "data": {
            "text/plain": [
              "198000"
            ]
          },
          "metadata": {},
          "execution_count": 125
        }
      ]
    },
    {
      "cell_type": "code",
      "metadata": {
        "id": "B_Wjd814ya6G"
      },
      "source": [
        "arrow['revenue'] = 1200000"
      ],
      "execution_count": 127,
      "outputs": []
    },
    {
      "cell_type": "code",
      "metadata": {
        "colab": {
          "base_uri": "https://localhost:8080/"
        },
        "id": "ypuEj71qyrs3",
        "outputId": "5a931626-9220-47e2-d091-252998afd284"
      },
      "source": [
        "arrow"
      ],
      "execution_count": 128,
      "outputs": [
        {
          "output_type": "execute_result",
          "data": {
            "text/plain": [
              "{'admin_cost': 150000,\n",
              " 'cost_of_sales': 60000,\n",
              " 'interest': 2000,\n",
              " 'is_profitable': True,\n",
              " 'marketing_cost': 50000,\n",
              " 'profit_amount': 198000,\n",
              " 'revenue': 1200000}"
            ]
          },
          "metadata": {},
          "execution_count": 128
        }
      ]
    },
    {
      "cell_type": "code",
      "metadata": {
        "colab": {
          "base_uri": "https://localhost:8080/",
          "height": 171
        },
        "id": "MXYsm0CizikJ",
        "outputId": "87970da2-705f-45ae-c870-e05f1118b15f"
      },
      "source": [
        "apple['EBITDA']"
      ],
      "execution_count": 133,
      "outputs": [
        {
          "output_type": "error",
          "ename": "KeyError",
          "evalue": "ignored",
          "traceback": [
            "\u001b[0;31m---------------------------------------------------------------------------\u001b[0m",
            "\u001b[0;31mKeyError\u001b[0m                                  Traceback (most recent call last)",
            "\u001b[0;32m<ipython-input-133-b73610ff8b03>\u001b[0m in \u001b[0;36m<module>\u001b[0;34m()\u001b[0m\n\u001b[0;32m----> 1\u001b[0;31m \u001b[0mapple\u001b[0m\u001b[0;34m[\u001b[0m\u001b[0;34m'EBITDA'\u001b[0m\u001b[0;34m]\u001b[0m\u001b[0;34m\u001b[0m\u001b[0;34m\u001b[0m\u001b[0m\n\u001b[0m",
            "\u001b[0;31mKeyError\u001b[0m: 'EBITDA'"
          ]
        }
      ]
    },
    {
      "cell_type": "code",
      "metadata": {
        "colab": {
          "base_uri": "https://localhost:8080/"
        },
        "id": "mfDYcvSI0McB",
        "outputId": "a33754d3-15e5-4121-b7d2-916232397bd4"
      },
      "source": [
        "print(apple.get('EBITDA'))"
      ],
      "execution_count": 135,
      "outputs": [
        {
          "output_type": "stream",
          "text": [
            "None\n"
          ],
          "name": "stdout"
        }
      ]
    },
    {
      "cell_type": "code",
      "metadata": {
        "colab": {
          "base_uri": "https://localhost:8080/"
        },
        "id": "90ftquDS0spt",
        "outputId": "be15b0dd-2aa3-4b37-8e14-e24b9bfa2b36"
      },
      "source": [
        "print(apple.get('population_Growth_in_US', 'Sorry value not found')) "
      ],
      "execution_count": 136,
      "outputs": [
        {
          "output_type": "stream",
          "text": [
            "Sorry value not found\n"
          ],
          "name": "stdout"
        }
      ]
    }
  ]
}