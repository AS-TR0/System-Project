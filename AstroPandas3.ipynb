{
  "nbformat": 4,
  "nbformat_minor": 0,
  "metadata": {
    "colab": {
      "name": "AstroPandas3.ipynb",
      "provenance": [],
      "collapsed_sections": [],
      "authorship_tag": "ABX9TyNLFzaor20DaW/M0jlio5lc",
      "include_colab_link": true
    },
    "kernelspec": {
      "name": "python3",
      "display_name": "Python 3"
    },
    "language_info": {
      "name": "python"
    }
  },
  "cells": [
    {
      "cell_type": "markdown",
      "metadata": {
        "id": "view-in-github",
        "colab_type": "text"
      },
      "source": [
        "<a href=\"https://colab.research.google.com/github/AS-TR0/System-Project/blob/main/AstroPandas3.ipynb\" target=\"_parent\"><img src=\"https://colab.research.google.com/assets/colab-badge.svg\" alt=\"Open In Colab\"/></a>"
      ]
    },
    {
      "cell_type": "code",
      "metadata": {
        "colab": {
          "base_uri": "https://localhost:8080/"
        },
        "id": "SbvoAPCC7EuD",
        "outputId": "58cbc803-d135-424a-b5eb-35ae79b75dd6"
      },
      "source": [
        "!pip install pandas"
      ],
      "execution_count": 2,
      "outputs": [
        {
          "output_type": "stream",
          "text": [
            "Requirement already satisfied: pandas in /usr/local/lib/python3.7/dist-packages (1.1.5)\n",
            "Requirement already satisfied: pytz>=2017.2 in /usr/local/lib/python3.7/dist-packages (from pandas) (2018.9)\n",
            "Requirement already satisfied: numpy>=1.15.4 in /usr/local/lib/python3.7/dist-packages (from pandas) (1.19.5)\n",
            "Requirement already satisfied: python-dateutil>=2.7.3 in /usr/local/lib/python3.7/dist-packages (from pandas) (2.8.2)\n",
            "Requirement already satisfied: six>=1.5 in /usr/local/lib/python3.7/dist-packages (from python-dateutil>=2.7.3->pandas) (1.15.0)\n"
          ],
          "name": "stdout"
        }
      ]
    },
    {
      "cell_type": "code",
      "metadata": {
        "id": "KWXQbi8N7Ndd"
      },
      "source": [
        ""
      ],
      "execution_count": null,
      "outputs": []
    },
    {
      "cell_type": "code",
      "metadata": {
        "id": "ZvCv5Cab7H-L"
      },
      "source": [
        "import pandas"
      ],
      "execution_count": 3,
      "outputs": []
    },
    {
      "cell_type": "code",
      "metadata": {
        "id": "7mDAhehg7OPM"
      },
      "source": [
        "PnL = ['Sales','COS','Expenses','Tax']\n",
        "\n",
        "PnL_DF = pandas.DataFrame(PnL)"
      ],
      "execution_count": 5,
      "outputs": []
    },
    {
      "cell_type": "code",
      "metadata": {
        "colab": {
          "base_uri": "https://localhost:8080/",
          "height": 175
        },
        "id": "SxWA_-gS7RJg",
        "outputId": "6650e7fe-7db1-4b3a-c58e-752244410665"
      },
      "source": [
        "PnL_DF"
      ],
      "execution_count": 6,
      "outputs": [
        {
          "output_type": "execute_result",
          "data": {
            "text/html": [
              "<div>\n",
              "<style scoped>\n",
              "    .dataframe tbody tr th:only-of-type {\n",
              "        vertical-align: middle;\n",
              "    }\n",
              "\n",
              "    .dataframe tbody tr th {\n",
              "        vertical-align: top;\n",
              "    }\n",
              "\n",
              "    .dataframe thead th {\n",
              "        text-align: right;\n",
              "    }\n",
              "</style>\n",
              "<table border=\"1\" class=\"dataframe\">\n",
              "  <thead>\n",
              "    <tr style=\"text-align: right;\">\n",
              "      <th></th>\n",
              "      <th>0</th>\n",
              "    </tr>\n",
              "  </thead>\n",
              "  <tbody>\n",
              "    <tr>\n",
              "      <th>0</th>\n",
              "      <td>Sales</td>\n",
              "    </tr>\n",
              "    <tr>\n",
              "      <th>1</th>\n",
              "      <td>COS</td>\n",
              "    </tr>\n",
              "    <tr>\n",
              "      <th>2</th>\n",
              "      <td>Expenses</td>\n",
              "    </tr>\n",
              "    <tr>\n",
              "      <th>3</th>\n",
              "      <td>Tax</td>\n",
              "    </tr>\n",
              "  </tbody>\n",
              "</table>\n",
              "</div>"
            ],
            "text/plain": [
              "          0\n",
              "0     Sales\n",
              "1       COS\n",
              "2  Expenses\n",
              "3       Tax"
            ]
          },
          "metadata": {},
          "execution_count": 6
        }
      ]
    },
    {
      "cell_type": "code",
      "metadata": {
        "id": "TNdPVwho6-Tt"
      },
      "source": [
        "PnL = [['Sales', 1000000,],['COS', 600000,],['Expenses',150000],['Tax',25000]]\n",
        "\n",
        "PnL_DF = pandas.DataFrame(PnL, columns=['Description', 'Amounts'])"
      ],
      "execution_count": 11,
      "outputs": []
    },
    {
      "cell_type": "code",
      "metadata": {
        "colab": {
          "base_uri": "https://localhost:8080/"
        },
        "id": "E_cUsr837XsC",
        "outputId": "42c50918-93cf-4df0-b611-25d1ff8b9695"
      },
      "source": [
        "print(PnL_DF)"
      ],
      "execution_count": 12,
      "outputs": [
        {
          "output_type": "stream",
          "text": [
            "  Description  Amounts\n",
            "0       Sales  1000000\n",
            "1         COS   600000\n",
            "2    Expenses   150000\n",
            "3         Tax    25000\n"
          ],
          "name": "stdout"
        }
      ]
    },
    {
      "cell_type": "code",
      "metadata": {
        "id": "oFIKOrPI8IgM"
      },
      "source": [
        "\n",
        "financial_data = {\n",
        "'Year' : [2016, 2017, 2018 , 2019, 2020] ,\n",
        "'Sales' : [40000,42000, 47000 , 52000, 39000] ,\n",
        "'Expenses': [30000, 50000,60000,50000, 40000],\n",
        "'Tax' : [500, 1000, 13000, 100, 90]\n",
        "}\n",
        "\n"
      ],
      "execution_count": 13,
      "outputs": []
    },
    {
      "cell_type": "code",
      "metadata": {
        "id": "AJCytGI19cds"
      },
      "source": [
        "financial_data_df = pandas.DataFrame(financial_data)"
      ],
      "execution_count": 14,
      "outputs": []
    },
    {
      "cell_type": "code",
      "metadata": {
        "colab": {
          "base_uri": "https://localhost:8080/",
          "height": 206
        },
        "id": "tXLkysuL9nXd",
        "outputId": "fa380eaf-1269-4c5d-bca7-ee539b475a3c"
      },
      "source": [
        "financial_data_df"
      ],
      "execution_count": 15,
      "outputs": [
        {
          "output_type": "execute_result",
          "data": {
            "text/html": [
              "<div>\n",
              "<style scoped>\n",
              "    .dataframe tbody tr th:only-of-type {\n",
              "        vertical-align: middle;\n",
              "    }\n",
              "\n",
              "    .dataframe tbody tr th {\n",
              "        vertical-align: top;\n",
              "    }\n",
              "\n",
              "    .dataframe thead th {\n",
              "        text-align: right;\n",
              "    }\n",
              "</style>\n",
              "<table border=\"1\" class=\"dataframe\">\n",
              "  <thead>\n",
              "    <tr style=\"text-align: right;\">\n",
              "      <th></th>\n",
              "      <th>Year</th>\n",
              "      <th>Sales</th>\n",
              "      <th>Expenses</th>\n",
              "      <th>Tax</th>\n",
              "    </tr>\n",
              "  </thead>\n",
              "  <tbody>\n",
              "    <tr>\n",
              "      <th>0</th>\n",
              "      <td>2016</td>\n",
              "      <td>40000</td>\n",
              "      <td>30000</td>\n",
              "      <td>500</td>\n",
              "    </tr>\n",
              "    <tr>\n",
              "      <th>1</th>\n",
              "      <td>2017</td>\n",
              "      <td>42000</td>\n",
              "      <td>50000</td>\n",
              "      <td>1000</td>\n",
              "    </tr>\n",
              "    <tr>\n",
              "      <th>2</th>\n",
              "      <td>2018</td>\n",
              "      <td>47000</td>\n",
              "      <td>60000</td>\n",
              "      <td>13000</td>\n",
              "    </tr>\n",
              "    <tr>\n",
              "      <th>3</th>\n",
              "      <td>2019</td>\n",
              "      <td>52000</td>\n",
              "      <td>50000</td>\n",
              "      <td>100</td>\n",
              "    </tr>\n",
              "    <tr>\n",
              "      <th>4</th>\n",
              "      <td>2020</td>\n",
              "      <td>39000</td>\n",
              "      <td>40000</td>\n",
              "      <td>90</td>\n",
              "    </tr>\n",
              "  </tbody>\n",
              "</table>\n",
              "</div>"
            ],
            "text/plain": [
              "   Year  Sales  Expenses    Tax\n",
              "0  2016  40000     30000    500\n",
              "1  2017  42000     50000   1000\n",
              "2  2018  47000     60000  13000\n",
              "3  2019  52000     50000    100\n",
              "4  2020  39000     40000     90"
            ]
          },
          "metadata": {},
          "execution_count": 15
        }
      ]
    },
    {
      "cell_type": "code",
      "metadata": {
        "id": "LKW0a0eU9wJd"
      },
      "source": [
        "financial_data_df = pandas.DataFrame(financial_data, index= ['year1', 'year2', 'year3', 'year4', 'year5',])"
      ],
      "execution_count": 16,
      "outputs": []
    },
    {
      "cell_type": "code",
      "metadata": {
        "colab": {
          "base_uri": "https://localhost:8080/",
          "height": 206
        },
        "id": "Siu_EBos-NYh",
        "outputId": "a1280dba-1133-4b63-c067-dfd08fb22bf4"
      },
      "source": [
        "financial_data_df"
      ],
      "execution_count": 17,
      "outputs": [
        {
          "output_type": "execute_result",
          "data": {
            "text/html": [
              "<div>\n",
              "<style scoped>\n",
              "    .dataframe tbody tr th:only-of-type {\n",
              "        vertical-align: middle;\n",
              "    }\n",
              "\n",
              "    .dataframe tbody tr th {\n",
              "        vertical-align: top;\n",
              "    }\n",
              "\n",
              "    .dataframe thead th {\n",
              "        text-align: right;\n",
              "    }\n",
              "</style>\n",
              "<table border=\"1\" class=\"dataframe\">\n",
              "  <thead>\n",
              "    <tr style=\"text-align: right;\">\n",
              "      <th></th>\n",
              "      <th>Year</th>\n",
              "      <th>Sales</th>\n",
              "      <th>Expenses</th>\n",
              "      <th>Tax</th>\n",
              "    </tr>\n",
              "  </thead>\n",
              "  <tbody>\n",
              "    <tr>\n",
              "      <th>year1</th>\n",
              "      <td>2016</td>\n",
              "      <td>40000</td>\n",
              "      <td>30000</td>\n",
              "      <td>500</td>\n",
              "    </tr>\n",
              "    <tr>\n",
              "      <th>year2</th>\n",
              "      <td>2017</td>\n",
              "      <td>42000</td>\n",
              "      <td>50000</td>\n",
              "      <td>1000</td>\n",
              "    </tr>\n",
              "    <tr>\n",
              "      <th>year3</th>\n",
              "      <td>2018</td>\n",
              "      <td>47000</td>\n",
              "      <td>60000</td>\n",
              "      <td>13000</td>\n",
              "    </tr>\n",
              "    <tr>\n",
              "      <th>year4</th>\n",
              "      <td>2019</td>\n",
              "      <td>52000</td>\n",
              "      <td>50000</td>\n",
              "      <td>100</td>\n",
              "    </tr>\n",
              "    <tr>\n",
              "      <th>year5</th>\n",
              "      <td>2020</td>\n",
              "      <td>39000</td>\n",
              "      <td>40000</td>\n",
              "      <td>90</td>\n",
              "    </tr>\n",
              "  </tbody>\n",
              "</table>\n",
              "</div>"
            ],
            "text/plain": [
              "       Year  Sales  Expenses    Tax\n",
              "year1  2016  40000     30000    500\n",
              "year2  2017  42000     50000   1000\n",
              "year3  2018  47000     60000  13000\n",
              "year4  2019  52000     50000    100\n",
              "year5  2020  39000     40000     90"
            ]
          },
          "metadata": {},
          "execution_count": 17
        }
      ]
    },
    {
      "cell_type": "code",
      "metadata": {
        "id": "lX1Bjtjh-ZFw"
      },
      "source": [
        "financial_data_df = pandas.DataFrame(financial_data, index= financial_data['Year'])"
      ],
      "execution_count": 21,
      "outputs": []
    },
    {
      "cell_type": "code",
      "metadata": {
        "colab": {
          "base_uri": "https://localhost:8080/",
          "height": 206
        },
        "id": "wh4HYx-1_Hro",
        "outputId": "b4802cac-5299-4cce-d9dc-ac5a92de8673"
      },
      "source": [
        "financial_data_df"
      ],
      "execution_count": 22,
      "outputs": [
        {
          "output_type": "execute_result",
          "data": {
            "text/html": [
              "<div>\n",
              "<style scoped>\n",
              "    .dataframe tbody tr th:only-of-type {\n",
              "        vertical-align: middle;\n",
              "    }\n",
              "\n",
              "    .dataframe tbody tr th {\n",
              "        vertical-align: top;\n",
              "    }\n",
              "\n",
              "    .dataframe thead th {\n",
              "        text-align: right;\n",
              "    }\n",
              "</style>\n",
              "<table border=\"1\" class=\"dataframe\">\n",
              "  <thead>\n",
              "    <tr style=\"text-align: right;\">\n",
              "      <th></th>\n",
              "      <th>Year</th>\n",
              "      <th>Sales</th>\n",
              "      <th>Expenses</th>\n",
              "      <th>Tax</th>\n",
              "    </tr>\n",
              "  </thead>\n",
              "  <tbody>\n",
              "    <tr>\n",
              "      <th>2016</th>\n",
              "      <td>2016</td>\n",
              "      <td>40000</td>\n",
              "      <td>30000</td>\n",
              "      <td>500</td>\n",
              "    </tr>\n",
              "    <tr>\n",
              "      <th>2017</th>\n",
              "      <td>2017</td>\n",
              "      <td>42000</td>\n",
              "      <td>50000</td>\n",
              "      <td>1000</td>\n",
              "    </tr>\n",
              "    <tr>\n",
              "      <th>2018</th>\n",
              "      <td>2018</td>\n",
              "      <td>47000</td>\n",
              "      <td>60000</td>\n",
              "      <td>13000</td>\n",
              "    </tr>\n",
              "    <tr>\n",
              "      <th>2019</th>\n",
              "      <td>2019</td>\n",
              "      <td>52000</td>\n",
              "      <td>50000</td>\n",
              "      <td>100</td>\n",
              "    </tr>\n",
              "    <tr>\n",
              "      <th>2020</th>\n",
              "      <td>2020</td>\n",
              "      <td>39000</td>\n",
              "      <td>40000</td>\n",
              "      <td>90</td>\n",
              "    </tr>\n",
              "  </tbody>\n",
              "</table>\n",
              "</div>"
            ],
            "text/plain": [
              "      Year  Sales  Expenses    Tax\n",
              "2016  2016  40000     30000    500\n",
              "2017  2017  42000     50000   1000\n",
              "2018  2018  47000     60000  13000\n",
              "2019  2019  52000     50000    100\n",
              "2020  2020  39000     40000     90"
            ]
          },
          "metadata": {},
          "execution_count": 22
        }
      ]
    },
    {
      "cell_type": "code",
      "metadata": {
        "id": "qJwD4K4y_Nhv"
      },
      "source": [
        "financial_data_df = pandas.DataFrame(financial_data, columns=['Sales', 'Expenses', 'Tax'],index= financial_data['Year'])"
      ],
      "execution_count": 26,
      "outputs": []
    },
    {
      "cell_type": "code",
      "metadata": {
        "colab": {
          "base_uri": "https://localhost:8080/",
          "height": 206
        },
        "id": "8oAE-8rg_kGa",
        "outputId": "1c945f8e-cace-4291-f121-a3b6eda23c65"
      },
      "source": [
        "financial_data_df"
      ],
      "execution_count": 27,
      "outputs": [
        {
          "output_type": "execute_result",
          "data": {
            "text/html": [
              "<div>\n",
              "<style scoped>\n",
              "    .dataframe tbody tr th:only-of-type {\n",
              "        vertical-align: middle;\n",
              "    }\n",
              "\n",
              "    .dataframe tbody tr th {\n",
              "        vertical-align: top;\n",
              "    }\n",
              "\n",
              "    .dataframe thead th {\n",
              "        text-align: right;\n",
              "    }\n",
              "</style>\n",
              "<table border=\"1\" class=\"dataframe\">\n",
              "  <thead>\n",
              "    <tr style=\"text-align: right;\">\n",
              "      <th></th>\n",
              "      <th>Sales</th>\n",
              "      <th>Expenses</th>\n",
              "      <th>Tax</th>\n",
              "    </tr>\n",
              "  </thead>\n",
              "  <tbody>\n",
              "    <tr>\n",
              "      <th>2016</th>\n",
              "      <td>40000</td>\n",
              "      <td>30000</td>\n",
              "      <td>500</td>\n",
              "    </tr>\n",
              "    <tr>\n",
              "      <th>2017</th>\n",
              "      <td>42000</td>\n",
              "      <td>50000</td>\n",
              "      <td>1000</td>\n",
              "    </tr>\n",
              "    <tr>\n",
              "      <th>2018</th>\n",
              "      <td>47000</td>\n",
              "      <td>60000</td>\n",
              "      <td>13000</td>\n",
              "    </tr>\n",
              "    <tr>\n",
              "      <th>2019</th>\n",
              "      <td>52000</td>\n",
              "      <td>50000</td>\n",
              "      <td>100</td>\n",
              "    </tr>\n",
              "    <tr>\n",
              "      <th>2020</th>\n",
              "      <td>39000</td>\n",
              "      <td>40000</td>\n",
              "      <td>90</td>\n",
              "    </tr>\n",
              "  </tbody>\n",
              "</table>\n",
              "</div>"
            ],
            "text/plain": [
              "      Sales  Expenses    Tax\n",
              "2016  40000     30000    500\n",
              "2017  42000     50000   1000\n",
              "2018  47000     60000  13000\n",
              "2019  52000     50000    100\n",
              "2020  39000     40000     90"
            ]
          },
          "metadata": {},
          "execution_count": 27
        }
      ]
    }
  ]
}