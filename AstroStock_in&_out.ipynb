{
  "nbformat": 4,
  "nbformat_minor": 0,
  "metadata": {
    "colab": {
      "name": "AstroStock_in&_out.ipynb",
      "provenance": [],
      "collapsed_sections": [],
      "authorship_tag": "ABX9TyMf843fyT52/g4ufdpkPtYr",
      "include_colab_link": true
    },
    "kernelspec": {
      "name": "python3",
      "display_name": "Python 3"
    },
    "language_info": {
      "name": "python"
    }
  },
  "cells": [
    {
      "cell_type": "markdown",
      "metadata": {
        "id": "view-in-github",
        "colab_type": "text"
      },
      "source": [
        "<a href=\"https://colab.research.google.com/github/AS-TR0/System-Project/blob/main/AstroStock_in%26_out.ipynb\" target=\"_parent\"><img src=\"https://colab.research.google.com/assets/colab-badge.svg\" alt=\"Open In Colab\"/></a>"
      ]
    },
    {
      "cell_type": "code",
      "metadata": {
        "colab": {
          "base_uri": "https://localhost:8080/"
        },
        "id": "upC_FgnjbquM",
        "outputId": "a86cd648-7b9b-4fcb-a692-74ae053f1c85"
      },
      "source": [
        "portfolio_ticker_list = [\"FB\", \"AAPL\", \"PG\", \"AMZN\",\"MSFT\",\"TSLA\",\"JNJ\",\"GOOG\",\"JPM\",\"WMAT\",\"PYPL\"]\n",
        "\n",
        "portfolio_ticker_list"
      ],
      "execution_count": 79,
      "outputs": [
        {
          "output_type": "execute_result",
          "data": {
            "text/plain": [
              "['FB',\n",
              " 'AAPL',\n",
              " 'PG',\n",
              " 'AMZN',\n",
              " 'MSFT',\n",
              " 'TSLA',\n",
              " 'JNJ',\n",
              " 'GOOG',\n",
              " 'JPM',\n",
              " 'WMAT',\n",
              " 'PYPL']"
            ]
          },
          "metadata": {},
          "execution_count": 79
        }
      ]
    }
  ]
}