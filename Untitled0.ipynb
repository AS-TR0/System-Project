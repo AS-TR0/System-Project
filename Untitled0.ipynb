{
  "nbformat": 4,
  "nbformat_minor": 0,
  "metadata": {
    "colab": {
      "name": "Untitled0.ipynb",
      "provenance": [],
      "authorship_tag": "ABX9TyNT3mJLnAsaD589wH8/+XP5",
      "include_colab_link": true
    },
    "kernelspec": {
      "name": "python3",
      "display_name": "Python 3"
    },
    "language_info": {
      "name": "python"
    }
  },
  "cells": [
    {
      "cell_type": "markdown",
      "metadata": {
        "id": "view-in-github",
        "colab_type": "text"
      },
      "source": [
        "<a href=\"https://colab.research.google.com/github/AS-TR0/System-Project/blob/main/Untitled0.ipynb\" target=\"_parent\"><img src=\"https://colab.research.google.com/assets/colab-badge.svg\" alt=\"Open In Colab\"/></a>"
      ]
    },
    {
      "cell_type": "code",
      "metadata": {
        "colab": {
          "base_uri": "https://localhost:8080/"
        },
        "id": "beqv0zvl2Ocb",
        "outputId": "87d71f84-64d8-4953-ecc7-4923d76d6d83"
      },
      "source": [
        "\n",
        "\"python is a great tool\"\n",
        "\n",
        "print (\"python is a great tool\")\n",
        "\n",
        "\n",
        "\n"
      ],
      "execution_count": null,
      "outputs": [
        {
          "output_type": "stream",
          "text": [
            "python is a great tool\n"
          ],
          "name": "stdout"
        }
      ]
    },
    {
      "cell_type": "code",
      "metadata": {
        "colab": {
          "base_uri": "https://localhost:8080/"
        },
        "id": "TpPc7HWq4242",
        "outputId": "d2104511-9e7b-4f66-9c93-a2db7e08a07a"
      },
      "source": [
        "print (\"I don't like extreme weather\")"
      ],
      "execution_count": null,
      "outputs": [
        {
          "output_type": "stream",
          "text": [
            "I don't like extreme weather\n"
          ],
          "name": "stdout"
        }
      ]
    },
    {
      "cell_type": "code",
      "metadata": {
        "colab": {
          "base_uri": "https://localhost:8080/"
        },
        "id": "mtY2PoOK5dOB",
        "outputId": "c4e5b61d-2f18-4dc1-affe-f56451d29085"
      },
      "source": [
        "print (\"John Smith\")"
      ],
      "execution_count": null,
      "outputs": [
        {
          "output_type": "stream",
          "text": [
            "John Smith\n"
          ],
          "name": "stdout"
        }
      ]
    },
    {
      "cell_type": "code",
      "metadata": {
        "colab": {
          "base_uri": "https://localhost:8080/"
        },
        "id": "8mDC-8rT6qOo",
        "outputId": "eab2fc43-037e-4581-a3d0-0e06e80a252a"
      },
      "source": [
        "type (9)\n"
      ],
      "execution_count": null,
      "outputs": [
        {
          "output_type": "execute_result",
          "data": {
            "text/plain": [
              "int"
            ]
          },
          "metadata": {},
          "execution_count": 31
        }
      ]
    },
    {
      "cell_type": "code",
      "metadata": {
        "colab": {
          "base_uri": "https://localhost:8080/"
        },
        "id": "vaorQupv6zD1",
        "outputId": "087d41a6-0ec3-4757-fcbb-0e98fe62dd06"
      },
      "source": [
        "int (-9)\n"
      ],
      "execution_count": null,
      "outputs": [
        {
          "output_type": "execute_result",
          "data": {
            "text/plain": [
              "-9"
            ]
          },
          "metadata": {},
          "execution_count": 33
        }
      ]
    },
    {
      "cell_type": "code",
      "metadata": {
        "id": "v5hyfzHN6_66",
        "colab": {
          "base_uri": "https://localhost:8080/"
        },
        "outputId": "8b70d2f6-a246-4a5c-8974-57923ed8c338"
      },
      "source": [
        "float (9.7)"
      ],
      "execution_count": null,
      "outputs": [
        {
          "output_type": "execute_result",
          "data": {
            "text/plain": [
              "9.7"
            ]
          },
          "metadata": {},
          "execution_count": 34
        }
      ]
    },
    {
      "cell_type": "code",
      "metadata": {
        "id": "MPDS1XHO71Z9"
      },
      "source": [
        "Grass_is_green = True\n",
        "Grass_is_blue = False"
      ],
      "execution_count": 36,
      "outputs": []
    },
    {
      "cell_type": "code",
      "metadata": {
        "colab": {
          "base_uri": "https://localhost:8080/"
        },
        "id": "Sc8i0liK92Dv",
        "outputId": "156e1569-da00-47d3-e788-58d0bd8bba80"
      },
      "source": [
        "x = 60 > 70\n",
        "print (x)\n",
        "x = 2* 30\n",
        "print (x)\n",
        "\n",
        "x = 50 / 60\n",
        "print (x)"
      ],
      "execution_count": 55,
      "outputs": [
        {
          "output_type": "stream",
          "text": [
            "False\n",
            "60\n",
            "0.8333333333333334\n"
          ],
          "name": "stdout"
        }
      ]
    },
    {
      "cell_type": "code",
      "metadata": {
        "colab": {
          "base_uri": "https://localhost:8080/"
        },
        "id": "FvEulUdB9Qoc",
        "outputId": "0a8b1715-2bb9-4b86-9994-a7a1bcb1f0a5"
      },
      "source": [
        "x != 50 > 60"
      ],
      "execution_count": 42,
      "outputs": [
        {
          "output_type": "execute_result",
          "data": {
            "text/plain": [
              "False"
            ]
          },
          "metadata": {},
          "execution_count": 42
        }
      ]
    },
    {
      "cell_type": "code",
      "metadata": {
        "colab": {
          "base_uri": "https://localhost:8080/"
        },
        "id": "reBILOYU9Y3F",
        "outputId": "ddcc7395-2b6c-4148-b3b7-ff24bf60de25"
      },
      "source": [
        "print (x)\n"
      ],
      "execution_count": 41,
      "outputs": [
        {
          "output_type": "stream",
          "text": [
            "False\n"
          ],
          "name": "stdout"
        }
      ]
    },
    {
      "cell_type": "code",
      "metadata": {
        "colab": {
          "base_uri": "https://localhost:8080/"
        },
        "id": "c6DBnGcJ-uNi",
        "outputId": "befae318-1616-4349-d023-21a1f9dd829e"
      },
      "source": [
        "2+2"
      ],
      "execution_count": 56,
      "outputs": [
        {
          "output_type": "execute_result",
          "data": {
            "text/plain": [
              "4"
            ]
          },
          "metadata": {},
          "execution_count": 56
        }
      ]
    },
    {
      "cell_type": "code",
      "metadata": {
        "colab": {
          "base_uri": "https://localhost:8080/"
        },
        "id": "TkFcJ0PP_lWa",
        "outputId": "9330792d-f2a8-4c2a-cc3b-a5b7e16686a7"
      },
      "source": [
        "2**5"
      ],
      "execution_count": 57,
      "outputs": [
        {
          "output_type": "execute_result",
          "data": {
            "text/plain": [
              "32"
            ]
          },
          "metadata": {},
          "execution_count": 57
        }
      ]
    },
    {
      "cell_type": "code",
      "metadata": {
        "colab": {
          "base_uri": "https://localhost:8080/"
        },
        "id": "ERrGfo2w_pnC",
        "outputId": "2fc42a8b-2e20-4c4f-f602-58aed6b5d6c5"
      },
      "source": [
        "2**10"
      ],
      "execution_count": 61,
      "outputs": [
        {
          "output_type": "execute_result",
          "data": {
            "text/plain": [
              "1024"
            ]
          },
          "metadata": {},
          "execution_count": 61
        }
      ]
    },
    {
      "cell_type": "code",
      "metadata": {
        "colab": {
          "base_uri": "https://localhost:8080/"
        },
        "id": "THvOG1Rv_4OT",
        "outputId": "e5c597b3-7c26-4d69-f50a-cf8e4455cb3f"
      },
      "source": [
        "7%2"
      ],
      "execution_count": 62,
      "outputs": [
        {
          "output_type": "execute_result",
          "data": {
            "text/plain": [
              "1"
            ]
          },
          "metadata": {},
          "execution_count": 62
        }
      ]
    },
    {
      "cell_type": "code",
      "metadata": {
        "colab": {
          "base_uri": "https://localhost:8080/"
        },
        "id": "NpVfGZ_L_-Mp",
        "outputId": "99704370-363e-421e-eeb5-e3854283d948"
      },
      "source": [
        "6/2\n"
      ],
      "execution_count": 63,
      "outputs": [
        {
          "output_type": "execute_result",
          "data": {
            "text/plain": [
              "3.0"
            ]
          },
          "metadata": {},
          "execution_count": 63
        }
      ]
    },
    {
      "cell_type": "code",
      "metadata": {
        "colab": {
          "base_uri": "https://localhost:8080/"
        },
        "id": "s4u7fg2FAD5M",
        "outputId": "6ed2f527-7ccf-40cf-c86b-9f5ccf5fe497"
      },
      "source": [
        "6/2 + 7%2"
      ],
      "execution_count": 68,
      "outputs": [
        {
          "output_type": "execute_result",
          "data": {
            "text/plain": [
              "4.0"
            ]
          },
          "metadata": {},
          "execution_count": 68
        }
      ]
    },
    {
      "cell_type": "code",
      "metadata": {
        "id": "9wgzIXDDAXUU"
      },
      "source": [
        ""
      ],
      "execution_count": null,
      "outputs": []
    },
    {
      "cell_type": "markdown",
      "metadata": {
        "id": "dS_nR_SoAaHb"
      },
      "source": [
        "Membership operators (IN , Not in)"
      ]
    },
    {
      "cell_type": "code",
      "metadata": {
        "id": "bwqTIih7AfoJ"
      },
      "source": [
        "invoices = {\"AB1\": 1200, \n",
        "            \"AB2\": 1400,\n",
        "            \"AB3\": 400}\n",
        "\n"
      ],
      "execution_count": 73,
      "outputs": []
    },
    {
      "cell_type": "code",
      "metadata": {
        "colab": {
          "base_uri": "https://localhost:8080/"
        },
        "id": "3QZvSv0TBX_r",
        "outputId": "f313adff-34aa-485a-de42-17c24d53d7a0"
      },
      "source": [
        "\"AB3\" in invoices"
      ],
      "execution_count": 74,
      "outputs": [
        {
          "output_type": "execute_result",
          "data": {
            "text/plain": [
              "True"
            ]
          },
          "metadata": {},
          "execution_count": 74
        }
      ]
    },
    {
      "cell_type": "code",
      "metadata": {
        "colab": {
          "base_uri": "https://localhost:8080/"
        },
        "id": "QdWs4HiFBsaT",
        "outputId": "b208e0d1-a1e5-4bb7-920e-3b67770af412"
      },
      "source": [
        "\"AB4\" in invoices"
      ],
      "execution_count": 75,
      "outputs": [
        {
          "output_type": "execute_result",
          "data": {
            "text/plain": [
              "False"
            ]
          },
          "metadata": {},
          "execution_count": 75
        }
      ]
    },
    {
      "cell_type": "code",
      "metadata": {
        "colab": {
          "base_uri": "https://localhost:8080/"
        },
        "id": "JHadfu0xBzU4",
        "outputId": "ff335051-8880-40cf-8fef-0195f97bc1a9"
      },
      "source": [
        "invoices [\"AB1\"]"
      ],
      "execution_count": 83,
      "outputs": [
        {
          "output_type": "execute_result",
          "data": {
            "text/plain": [
              "1200"
            ]
          },
          "metadata": {},
          "execution_count": 83
        }
      ]
    }
  ]
}