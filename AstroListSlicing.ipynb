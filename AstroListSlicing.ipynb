{
  "nbformat": 4,
  "nbformat_minor": 0,
  "metadata": {
    "colab": {
      "name": "AstroListSlicing.ipynb",
      "provenance": [],
      "collapsed_sections": [],
      "authorship_tag": "ABX9TyOUHfbH2YkZlLuAqnoARo1T",
      "include_colab_link": true
    },
    "kernelspec": {
      "name": "python3",
      "display_name": "Python 3"
    },
    "language_info": {
      "name": "python"
    }
  },
  "cells": [
    {
      "cell_type": "markdown",
      "metadata": {
        "id": "view-in-github",
        "colab_type": "text"
      },
      "source": [
        "<a href=\"https://colab.research.google.com/github/AS-TR0/System-Project/blob/main/AstroListSlicing.ipynb\" target=\"_parent\"><img src=\"https://colab.research.google.com/assets/colab-badge.svg\" alt=\"Open In Colab\"/></a>"
      ]
    },
    {
      "cell_type": "code",
      "metadata": {
        "colab": {
          "base_uri": "https://localhost:8080/"
        },
        "id": "upC_FgnjbquM",
        "outputId": "a86cd648-7b9b-4fcb-a692-74ae053f1c85"
      },
      "source": [
        "portfolio_ticker_list = [\"FB\", \"AAPL\", \"PG\", \"AMZN\",\"MSFT\",\"TSLA\",\"JNJ\",\"GOOG\",\"JPM\",\"WMAT\",\"PYPL\"]\n",
        "\n",
        "portfolio_ticker_list"
      ],
      "execution_count": 79,
      "outputs": [
        {
          "output_type": "execute_result",
          "data": {
            "text/plain": [
              "['FB',\n",
              " 'AAPL',\n",
              " 'PG',\n",
              " 'AMZN',\n",
              " 'MSFT',\n",
              " 'TSLA',\n",
              " 'JNJ',\n",
              " 'GOOG',\n",
              " 'JPM',\n",
              " 'WMAT',\n",
              " 'PYPL']"
            ]
          },
          "metadata": {},
          "execution_count": 79
        }
      ]
    },
    {
      "cell_type": "code",
      "metadata": {
        "id": "zjucOtnCdN9s"
      },
      "source": [
        "First_five_stocks = portfolio_ticker_list [ 0 : 5 ]"
      ],
      "execution_count": 68,
      "outputs": []
    },
    {
      "cell_type": "code",
      "metadata": {
        "colab": {
          "base_uri": "https://localhost:8080/"
        },
        "id": "HuQd0d9sdpQx",
        "outputId": "72eefeed-c934-469d-d832-087d57b0033a"
      },
      "source": [
        "print(First_five_stocks)"
      ],
      "execution_count": 69,
      "outputs": [
        {
          "output_type": "stream",
          "text": [
            "('FB', 'AAPL', 'PG', 'AMZN', 'MSFT')\n"
          ],
          "name": "stdout"
        }
      ]
    },
    {
      "cell_type": "code",
      "metadata": {
        "id": "N2uxHNzieFLH"
      },
      "source": [
        "Last_five_stocks = portfolio_ticker_list[-5 : ]"
      ],
      "execution_count": 98,
      "outputs": []
    },
    {
      "cell_type": "code",
      "metadata": {
        "colab": {
          "base_uri": "https://localhost:8080/"
        },
        "id": "oUF-WjW8hKgk",
        "outputId": "191e216c-c2e7-4ed8-d86a-892191c6e164"
      },
      "source": [
        "print(Last_five_stocks)"
      ],
      "execution_count": 99,
      "outputs": [
        {
          "output_type": "stream",
          "text": [
            "['JNJ', 'GOOG', 'JPM', 'WMAT', 'PYPL']\n"
          ],
          "name": "stdout"
        }
      ]
    }
  ]
}