{
  "nbformat": 4,
  "nbformat_minor": 0,
  "metadata": {
    "colab": {
      "name": "AstroStock_FIFO.ipynb",
      "provenance": [],
      "collapsed_sections": [],
      "authorship_tag": "ABX9TyPeaguR3VuyP8svax2iP0+8",
      "include_colab_link": true
    },
    "kernelspec": {
      "name": "python3",
      "display_name": "Python 3"
    },
    "language_info": {
      "name": "python"
    }
  },
  "cells": [
    {
      "cell_type": "markdown",
      "metadata": {
        "id": "view-in-github",
        "colab_type": "text"
      },
      "source": [
        "<a href=\"https://colab.research.google.com/github/AS-TR0/System-Project/blob/main/AstroStock_FIFO.ipynb\" target=\"_parent\"><img src=\"https://colab.research.google.com/assets/colab-badge.svg\" alt=\"Open In Colab\"/></a>"
      ]
    },
    {
      "cell_type": "code",
      "metadata": {
        "id": "upC_FgnjbquM"
      },
      "source": [
        "portfolio_ticker_list = [\"FB\", \"AAPL\", \"PG\", \"AMZN\",\"MSFT\",\"TSLA\",\"JNJ\",\"GOOG\",\"JPM\",\"WMAT\",\"PYPL\"]\n",
        " "
      ],
      "execution_count": 102,
      "outputs": []
    },
    {
      "cell_type": "code",
      "metadata": {
        "id": "tAdX2twckP5Q"
      },
      "source": [
        "Fifo = portfolio_ticker_list[ -5 : ]"
      ],
      "execution_count": 105,
      "outputs": []
    },
    {
      "cell_type": "code",
      "metadata": {
        "colab": {
          "base_uri": "https://localhost:8080/"
        },
        "id": "sqCs3o33lT0A",
        "outputId": "dcafa64d-66b2-450d-bf08-134123e444c9"
      },
      "source": [
        "print(Fifo)"
      ],
      "execution_count": 106,
      "outputs": [
        {
          "output_type": "stream",
          "text": [
            "['JNJ', 'GOOG', 'JPM', 'WMAT', 'PYPL']\n"
          ],
          "name": "stdout"
        }
      ]
    }
  ]
}