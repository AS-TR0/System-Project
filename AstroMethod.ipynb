{
  "nbformat": 4,
  "nbformat_minor": 0,
  "metadata": {
    "colab": {
      "name": "AstroMethod.ipynb",
      "provenance": [],
      "collapsed_sections": [],
      "authorship_tag": "ABX9TyNoTU+XJjHCvfK7Q2crySGo",
      "include_colab_link": true
    },
    "kernelspec": {
      "name": "python3",
      "display_name": "Python 3"
    },
    "language_info": {
      "name": "python"
    }
  },
  "cells": [
    {
      "cell_type": "markdown",
      "metadata": {
        "id": "view-in-github",
        "colab_type": "text"
      },
      "source": [
        "<a href=\"https://colab.research.google.com/github/AS-TR0/System-Project/blob/main/AstroMethod.ipynb\" target=\"_parent\"><img src=\"https://colab.research.google.com/assets/colab-badge.svg\" alt=\"Open In Colab\"/></a>"
      ]
    },
    {
      "cell_type": "code",
      "metadata": {
        "id": "LaUpscl5ag0n"
      },
      "source": [
        "portfolio_ticker_list = [\"FB\", \"AAPL\", \"PG\", \"AMZN\",\"MSFT\",\"TSLA\",\"JNJ\",\"GOOG\",\"JPM\",\"WMAT\",\"PYPL\"]\n"
      ],
      "execution_count": 16,
      "outputs": []
    },
    {
      "cell_type": "code",
      "metadata": {
        "colab": {
          "base_uri": "https://localhost:8080/"
        },
        "id": "a4gYZU3MaiTi",
        "outputId": "d1ba9806-b874-421a-a58a-7268d4248bcd"
      },
      "source": [
        "portfolio_ticker_list"
      ],
      "execution_count": 17,
      "outputs": [
        {
          "output_type": "execute_result",
          "data": {
            "text/plain": [
              "['FB',\n",
              " 'AAPL',\n",
              " 'PG',\n",
              " 'AMZN',\n",
              " 'MSFT',\n",
              " 'TSLA',\n",
              " 'JNJ',\n",
              " 'GOOG',\n",
              " 'JPM',\n",
              " 'WMAT',\n",
              " 'PYPL']"
            ]
          },
          "metadata": {},
          "execution_count": 17
        }
      ]
    },
    {
      "cell_type": "code",
      "metadata": {
        "colab": {
          "base_uri": "https://localhost:8080/",
          "height": 36
        },
        "id": "46Pg7kqMamcV",
        "outputId": "27b726ba-26a7-42b4-860b-9259222e2037"
      },
      "source": [
        "portfolio_ticker_list [-0]"
      ],
      "execution_count": 19,
      "outputs": [
        {
          "output_type": "execute_result",
          "data": {
            "application/vnd.google.colaboratory.intrinsic+json": {
              "type": "string"
            },
            "text/plain": [
              "'FB'"
            ]
          },
          "metadata": {},
          "execution_count": 19
        }
      ]
    }
  ]
}