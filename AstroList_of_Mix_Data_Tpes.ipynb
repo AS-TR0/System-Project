{
  "nbformat": 4,
  "nbformat_minor": 0,
  "metadata": {
    "colab": {
      "name": "AstroList of Mix Data Tpes.ipynb",
      "provenance": [],
      "collapsed_sections": [],
      "authorship_tag": "ABX9TyMteOkMzglUY28v/i3qQv62",
      "include_colab_link": true
    },
    "kernelspec": {
      "name": "python3",
      "display_name": "Python 3"
    },
    "language_info": {
      "name": "python"
    }
  },
  "cells": [
    {
      "cell_type": "markdown",
      "metadata": {
        "id": "view-in-github",
        "colab_type": "text"
      },
      "source": [
        "<a href=\"https://colab.research.google.com/github/AS-TR0/System-Project/blob/main/AstroList_of_Mix_Data_Tpes.ipynb\" target=\"_parent\"><img src=\"https://colab.research.google.com/assets/colab-badge.svg\" alt=\"Open In Colab\"/></a>"
      ]
    },
    {
      "cell_type": "code",
      "metadata": {
        "id": "upC_FgnjbquM"
      },
      "source": [
        "mix_data_types = [2, 4.4, \"artificial intelligence using python\", True]\n"
      ],
      "execution_count": 20,
      "outputs": []
    },
    {
      "cell_type": "code",
      "metadata": {
        "colab": {
          "base_uri": "https://localhost:8080/"
        },
        "id": "kwj_-vgWbx8K",
        "outputId": "8115537b-7e23-4f1d-96be-2a4a2daeeb7f"
      },
      "source": [
        "mix_data_types [1]\n"
      ],
      "execution_count": 21,
      "outputs": [
        {
          "output_type": "execute_result",
          "data": {
            "text/plain": [
              "4.4"
            ]
          },
          "metadata": {},
          "execution_count": 21
        }
      ]
    },
    {
      "cell_type": "code",
      "metadata": {
        "colab": {
          "base_uri": "https://localhost:8080/",
          "height": 36
        },
        "id": "epJ4OON9byLb",
        "outputId": "1c59a461-8d39-40bc-e133-cad4b72285c3"
      },
      "source": [
        "mix_data_types [2]\n"
      ],
      "execution_count": 22,
      "outputs": [
        {
          "output_type": "execute_result",
          "data": {
            "application/vnd.google.colaboratory.intrinsic+json": {
              "type": "string"
            },
            "text/plain": [
              "'artificial intelligence using python'"
            ]
          },
          "metadata": {},
          "execution_count": 22
        }
      ]
    },
    {
      "cell_type": "code",
      "metadata": {
        "colab": {
          "base_uri": "https://localhost:8080/"
        },
        "id": "wYkWpDPwcKHy",
        "outputId": "b56432a0-8ace-4e40-fe7f-4ae289844b24"
      },
      "source": [
        "mix_data_types [3]\n"
      ],
      "execution_count": 23,
      "outputs": [
        {
          "output_type": "execute_result",
          "data": {
            "text/plain": [
              "True"
            ]
          },
          "metadata": {},
          "execution_count": 23
        }
      ]
    },
    {
      "cell_type": "code",
      "metadata": {
        "id": "Vr474YXrcLFL"
      },
      "source": [
        "mix_data_types"
      ],
      "execution_count": null,
      "outputs": []
    }
  ]
}